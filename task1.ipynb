{
 "cells": [
  {
   "attachments": {},
   "cell_type": "markdown",
   "metadata": {},
   "source": [
    "#### Task 1. Cancer Cell Treatment using Radioactive Materials\n",
    "## Mach (M) and Facula (F)"
   ]
  },
  {
   "cell_type": "code",
   "execution_count": 50,
   "metadata": {},
   "outputs": [
    {
     "name": "stdout",
     "output_type": "stream",
     "text": [
      "40\n"
     ]
    }
   ],
   "source": [
    "M = 244\n",
    "F = 7\n",
    "\n",
    "def solution(M, F):\n",
    "    m = int(M)\n",
    "    f = int(F)\n",
    "    \n",
    "    generations = 0\n",
    "\n",
    "    while True:\n",
    "\n",
    "        if m == 1 and f == 1:\n",
    "            return str(generations)\n",
    "        # If either M or F is less than 1\n",
    "        # or they are equal (but not 1, it'd be\n",
    "        # captured above) return \"impossible\"\n",
    "        elif m<1 or f<1 or m==f:\n",
    "            return \"impossible\"\n",
    "        # Check which one is larger, perform\n",
    "        # the inverse replication and increment\n",
    "        # the generation counter\n",
    "        else:\n",
    "            if m > f:\n",
    "                # If the difference is more \n",
    "                # than 10x, calculate a \n",
    "                # multiplication factor and\n",
    "                # increase gens accordingly \n",
    "                if m > 10*f:\n",
    "                    multi = (m//f -1)\n",
    "                    generations += multi\n",
    "                    m = m - (multi*f)\n",
    "                else:\n",
    "                    m-=f\n",
    "                    generations += 1\n",
    "            else:\n",
    "                if f > 10*m:\n",
    "                    multi = (f//m -1)\n",
    "                    generations += multi\n",
    "                    f = f - (multi*m)\n",
    "                else:\n",
    "                    f-=m\n",
    "                    generations += 1\n",
    "print(solution(M,F))"
   ]
  }
 ],
 "metadata": {
  "kernelspec": {
   "display_name": "base",
   "language": "python",
   "name": "python3"
  },
  "language_info": {
   "codemirror_mode": {
    "name": "ipython",
    "version": 3
   },
   "file_extension": ".py",
   "mimetype": "text/x-python",
   "name": "python",
   "nbconvert_exporter": "python",
   "pygments_lexer": "ipython3",
   "version": "3.9.13"
  },
  "orig_nbformat": 4
 },
 "nbformat": 4,
 "nbformat_minor": 2
}
